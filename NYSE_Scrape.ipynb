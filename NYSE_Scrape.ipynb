{
 "cells": [
  {
   "cell_type": "code",
   "execution_count": 3,
   "metadata": {},
   "outputs": [],
   "source": [
    "#Dependencies\n",
    "import flask\n",
    "import numpy as np\n",
    "import os\n",
    "import pandas as pd\n",
    "import pymongo\n",
    "import re\n",
    "import requests\n",
    "import splinter\n",
    "import urllib\n",
    "from bs4 import BeautifulSoup\n",
    "from flask import Flask, render_template\n",
    "from flask import Flask, Response\n",
    "from flask import jsonify\n",
    "from selenium import webdriver\n",
    "from splinter import Browser\n",
    "from splinter.exceptions import ElementDoesNotExist\n",
    "browser=Browser(\"chrome\", headless=False)"
   ]
  },
  {
   "cell_type": "code",
   "execution_count": 4,
   "metadata": {},
   "outputs": [
    {
     "name": "stdout",
     "output_type": "stream",
     "text": [
      "C:\\Users\\User\\Desktop\\Personal_Projects\\Algotrade\\Robinhood\\chromedriver.exe\n"
     ]
    }
   ],
   "source": [
    "!where chromedriver"
   ]
  },
  {
   "cell_type": "code",
   "execution_count": 26,
   "metadata": {},
   "outputs": [],
   "source": [
    "# url = \"http://eoddata.com/stocklist/NYSE/A.htm\"\n",
    "# browser.visit(url)\n",
    "# html = browser.html\n",
    "# soup = BeautifulSoup(html, \"html.parser\")\n",
    "# print(soup.prettify())"
   ]
  },
  {
   "cell_type": "code",
   "execution_count": 34,
   "metadata": {},
   "outputs": [
    {
     "name": "stdout",
     "output_type": "stream",
     "text": [
      "https://www.alphavantage.co/query?function=TIME_SERIES_DAILY&symbol=MSFT&outputsize=compact&apikey=5YQIQY0NVNBAEVT9\n"
     ]
    }
   ],
   "source": [
    "#Alphavantage\n",
    "url = \"https://www.alphavantage.co/query?\"\n",
    "#time series can be daily, weekly, monthly, intraday\n",
    "#contains up to 20 years of data (except intraday)\n",
    "function = \"function=TIME_SERIES_DAILY&\"\n",
    "symbol=\"symbol=MSFT&\"\n",
    "#output can be full or compact\n",
    "outputsize=\"outputsize=compact&\"\n",
    "api_key = \"apikey=5YQIQY0NVNBAEVT9\"\n",
    "#datatype can be json or csv\n",
    "datatype=\"datatype=json\"\n",
    "query_url = url+function+symbol+outputsize+api_key\n",
    "requests.get(query_url)\n",
    "print(query_url)"
   ]
  },
  {
   "cell_type": "code",
   "execution_count": null,
   "metadata": {},
   "outputs": [],
   "source": []
  }
 ],
 "metadata": {
  "kernelspec": {
   "display_name": "Python 3",
   "language": "python",
   "name": "python3"
  },
  "language_info": {
   "codemirror_mode": {
    "name": "ipython",
    "version": 3
   },
   "file_extension": ".py",
   "mimetype": "text/x-python",
   "name": "python",
   "nbconvert_exporter": "python",
   "pygments_lexer": "ipython3",
   "version": "3.6.4"
  }
 },
 "nbformat": 4,
 "nbformat_minor": 2
}

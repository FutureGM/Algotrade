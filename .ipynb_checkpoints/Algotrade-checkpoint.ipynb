{
 "cells": [
  {
   "cell_type": "code",
   "execution_count": 1,
   "metadata": {},
   "outputs": [],
   "source": [
    "#Dependencies\n",
    "from Robinhood import Robinhood"
   ]
  },
  {
   "cell_type": "code",
   "execution_count": 2,
   "metadata": {},
   "outputs": [],
   "source": [
    "#Setup connection\n",
    "my_trader = Robinhood()"
   ]
  },
  {
   "cell_type": "code",
   "execution_count": 4,
   "metadata": {},
   "outputs": [
    {
     "data": {
      "text/plain": [
       "True"
      ]
     },
     "execution_count": 4,
     "metadata": {},
     "output_type": "execute_result"
    }
   ],
   "source": [
    "#Login\n",
    "my_trader.login(username=\"\", password=\"\")"
   ]
  },
  {
   "cell_type": "code",
   "execution_count": 6,
   "metadata": {},
   "outputs": [
    {
     "data": {
      "text/plain": [
       "{'bloomberg_unique': 'EQ0087032100001000',\n",
       " 'country': 'US',\n",
       " 'day_trade_ratio': '0.2500',\n",
       " 'fundamentals': 'https://api.robinhood.com/fundamentals/NFLX/',\n",
       " 'id': '81733743-965a-4d93-b87a-6973cb9efd34',\n",
       " 'list_date': '2002-05-23',\n",
       " 'maintenance_ratio': '0.2500',\n",
       " 'margin_initial_ratio': '0.5000',\n",
       " 'market': 'https://api.robinhood.com/markets/XNAS/',\n",
       " 'min_tick_size': None,\n",
       " 'name': 'Netflix, Inc. Common Stock',\n",
       " 'quote': 'https://api.robinhood.com/quotes/NFLX/',\n",
       " 'rhs_tradability': 'tradable',\n",
       " 'simple_name': 'Netflix',\n",
       " 'splits': 'https://api.robinhood.com/instruments/81733743-965a-4d93-b87a-6973cb9efd34/splits/',\n",
       " 'state': 'active',\n",
       " 'symbol': 'NFLX',\n",
       " 'tradability': 'tradable',\n",
       " 'tradable_chain_id': '663d1670-d99f-40f2-835e-7fe1ad77f8eb',\n",
       " 'tradeable': True,\n",
       " 'type': 'stock',\n",
       " 'url': 'https://api.robinhood.com/instruments/81733743-965a-4d93-b87a-6973cb9efd34/'}"
      ]
     },
     "execution_count": 6,
     "metadata": {},
     "output_type": "execute_result"
    }
   ],
   "source": [
    "#Get stock information\n",
    "stock_instrument = my_trader.instruments(\"NFLX\")[0]\n",
    "stock_instrument"
   ]
  },
  {
   "cell_type": "code",
   "execution_count": 8,
   "metadata": {},
   "outputs": [
    {
     "name": "stdout",
     "output_type": "stream",
     "text": [
      "NFLX: $363.600000\n"
     ]
    }
   ],
   "source": [
    "#Get a stock's quote\n",
    "my_trader.print_quote(\"NFLX\")"
   ]
  },
  {
   "cell_type": "code",
   "execution_count": 9,
   "metadata": {},
   "outputs": [
    {
     "name": "stdout",
     "output_type": "stream",
     "text": [
      "NFLX: $363.600000\n",
      "FB: $171.160000\n",
      "TSLA: $288.950000\n",
      "NKE: $79.600000\n"
     ]
    }
   ],
   "source": [
    "#Print multiple symbols\n",
    "my_trader.print_quotes(stocks=[\"NFLX\", \"FB\", \"TSLA\", \"NKE\"])"
   ]
  },
  {
   "cell_type": "code",
   "execution_count": 11,
   "metadata": {},
   "outputs": [
    {
     "data": {
      "text/plain": [
       "{'adjusted_previous_close': '82.200000',\n",
       " 'ask_price': '79.600000',\n",
       " 'ask_size': 18600,\n",
       " 'bid_price': '79.620000',\n",
       " 'bid_size': 200,\n",
       " 'has_traded': True,\n",
       " 'instrument': 'https://api.robinhood.com/instruments/aec9d597-9fdb-4393-af8b-da2019e2c179/',\n",
       " 'last_extended_hours_trade_price': '79.800000',\n",
       " 'last_trade_price': '79.600000',\n",
       " 'last_trade_price_source': 'consolidated',\n",
       " 'previous_close': '82.200000',\n",
       " 'previous_close_date': '2018-08-31',\n",
       " 'symbol': 'NKE',\n",
       " 'trading_halted': False,\n",
       " 'updated_at': '2018-09-04T23:43:40Z'}"
      ]
     },
     "execution_count": 11,
     "metadata": {},
     "output_type": "execute_result"
    }
   ],
   "source": [
    "#View all data for a given stock ie. Ask price and size, bid price and size, previous close, adjusted previous close, etc.\n",
    "quote_info = my_trader.quote_data(\"NKE\")\n",
    "quote_info"
   ]
  },
  {
   "cell_type": "code",
   "execution_count": 14,
   "metadata": {},
   "outputs": [
    {
     "ename": "HTTPError",
     "evalue": "400 Client Error: Bad Request for url: https://api.robinhood.com/orders/",
     "output_type": "error",
     "traceback": [
      "\u001b[1;31m---------------------------------------------------------------------------\u001b[0m",
      "\u001b[1;31mHTTPError\u001b[0m                                 Traceback (most recent call last)",
      "\u001b[1;32m<ipython-input-14-54ab17ce1e75>\u001b[0m in \u001b[0;36m<module>\u001b[1;34m()\u001b[0m\n\u001b[0;32m      1\u001b[0m \u001b[1;31m#Place a buy order (uses market bid price)\u001b[0m\u001b[1;33m\u001b[0m\u001b[1;33m\u001b[0m\u001b[0m\n\u001b[1;32m----> 2\u001b[1;33m \u001b[0mbuy_order\u001b[0m \u001b[1;33m=\u001b[0m \u001b[0mmy_trader\u001b[0m\u001b[1;33m.\u001b[0m\u001b[0mplace_buy_order\u001b[0m\u001b[1;33m(\u001b[0m\u001b[0mstock_instrument\u001b[0m\u001b[1;33m,\u001b[0m \u001b[1;36m1\u001b[0m\u001b[1;33m)\u001b[0m\u001b[1;33m\u001b[0m\u001b[0m\n\u001b[0m",
      "\u001b[1;32m~\\Desktop\\Personal_Projects\\Algotrade\\Robinhood\\Robinhood\\Robinhood.py\u001b[0m in \u001b[0;36mplace_buy_order\u001b[1;34m(self, instrument, quantity, bid_price)\u001b[0m\n\u001b[0;32m    937\u001b[0m         \u001b[0mtransaction\u001b[0m \u001b[1;33m=\u001b[0m \u001b[0mTransaction\u001b[0m\u001b[1;33m.\u001b[0m\u001b[0mBUY\u001b[0m\u001b[1;33m\u001b[0m\u001b[0m\n\u001b[0;32m    938\u001b[0m \u001b[1;33m\u001b[0m\u001b[0m\n\u001b[1;32m--> 939\u001b[1;33m         \u001b[1;32mreturn\u001b[0m \u001b[0mself\u001b[0m\u001b[1;33m.\u001b[0m\u001b[0mplace_order\u001b[0m\u001b[1;33m(\u001b[0m\u001b[0minstrument\u001b[0m\u001b[1;33m,\u001b[0m \u001b[0mquantity\u001b[0m\u001b[1;33m,\u001b[0m \u001b[0mbid_price\u001b[0m\u001b[1;33m,\u001b[0m \u001b[0mtransaction\u001b[0m\u001b[1;33m)\u001b[0m\u001b[1;33m\u001b[0m\u001b[0m\n\u001b[0m\u001b[0;32m    940\u001b[0m \u001b[1;33m\u001b[0m\u001b[0m\n\u001b[0;32m    941\u001b[0m \u001b[1;33m\u001b[0m\u001b[0m\n",
      "\u001b[1;32m~\\Desktop\\Personal_Projects\\Algotrade\\Robinhood\\Robinhood\\Robinhood.py\u001b[0m in \u001b[0;36mplace_order\u001b[1;34m(self, instrument, quantity, bid_price, transaction, trigger, order, time_in_force)\u001b[0m\n\u001b[0;32m    914\u001b[0m \u001b[1;33m\u001b[0m\u001b[0m\n\u001b[0;32m    915\u001b[0m         \u001b[0mres\u001b[0m \u001b[1;33m=\u001b[0m \u001b[0mself\u001b[0m\u001b[1;33m.\u001b[0m\u001b[0msession\u001b[0m\u001b[1;33m.\u001b[0m\u001b[0mpost\u001b[0m\u001b[1;33m(\u001b[0m\u001b[0mendpoints\u001b[0m\u001b[1;33m.\u001b[0m\u001b[0morders\u001b[0m\u001b[1;33m(\u001b[0m\u001b[1;33m)\u001b[0m\u001b[1;33m,\u001b[0m \u001b[0mdata\u001b[0m\u001b[1;33m=\u001b[0m\u001b[0mpayload\u001b[0m\u001b[1;33m,\u001b[0m \u001b[0mtimeout\u001b[0m\u001b[1;33m=\u001b[0m\u001b[1;36m15\u001b[0m\u001b[1;33m)\u001b[0m\u001b[1;33m\u001b[0m\u001b[0m\n\u001b[1;32m--> 916\u001b[1;33m         \u001b[0mres\u001b[0m\u001b[1;33m.\u001b[0m\u001b[0mraise_for_status\u001b[0m\u001b[1;33m(\u001b[0m\u001b[1;33m)\u001b[0m\u001b[1;33m\u001b[0m\u001b[0m\n\u001b[0m\u001b[0;32m    917\u001b[0m \u001b[1;33m\u001b[0m\u001b[0m\n\u001b[0;32m    918\u001b[0m         \u001b[1;32mreturn\u001b[0m \u001b[0mres\u001b[0m\u001b[1;33m\u001b[0m\u001b[0m\n",
      "\u001b[1;32mC:\\ProgramData\\Anaconda3\\lib\\site-packages\\requests\\models.py\u001b[0m in \u001b[0;36mraise_for_status\u001b[1;34m(self)\u001b[0m\n\u001b[0;32m    933\u001b[0m \u001b[1;33m\u001b[0m\u001b[0m\n\u001b[0;32m    934\u001b[0m         \u001b[1;32mif\u001b[0m \u001b[0mhttp_error_msg\u001b[0m\u001b[1;33m:\u001b[0m\u001b[1;33m\u001b[0m\u001b[0m\n\u001b[1;32m--> 935\u001b[1;33m             \u001b[1;32mraise\u001b[0m \u001b[0mHTTPError\u001b[0m\u001b[1;33m(\u001b[0m\u001b[0mhttp_error_msg\u001b[0m\u001b[1;33m,\u001b[0m \u001b[0mresponse\u001b[0m\u001b[1;33m=\u001b[0m\u001b[0mself\u001b[0m\u001b[1;33m)\u001b[0m\u001b[1;33m\u001b[0m\u001b[0m\n\u001b[0m\u001b[0;32m    936\u001b[0m \u001b[1;33m\u001b[0m\u001b[0m\n\u001b[0;32m    937\u001b[0m     \u001b[1;32mdef\u001b[0m \u001b[0mclose\u001b[0m\u001b[1;33m(\u001b[0m\u001b[0mself\u001b[0m\u001b[1;33m)\u001b[0m\u001b[1;33m:\u001b[0m\u001b[1;33m\u001b[0m\u001b[0m\n",
      "\u001b[1;31mHTTPError\u001b[0m: 400 Client Error: Bad Request for url: https://api.robinhood.com/orders/"
     ]
    }
   ],
   "source": [
    "#Place a buy order (uses market bid price)\n",
    "buy_order = my_trader.place_buy_order(stock_instrument, 1)"
   ]
  },
  {
   "cell_type": "code",
   "execution_count": 15,
   "metadata": {},
   "outputs": [
    {
     "ename": "HTTPError",
     "evalue": "400 Client Error: Bad Request for url: https://api.robinhood.com/orders/",
     "output_type": "error",
     "traceback": [
      "\u001b[1;31m---------------------------------------------------------------------------\u001b[0m",
      "\u001b[1;31mHTTPError\u001b[0m                                 Traceback (most recent call last)",
      "\u001b[1;32m<ipython-input-15-78627ff0d8bc>\u001b[0m in \u001b[0;36m<module>\u001b[1;34m()\u001b[0m\n\u001b[0;32m      1\u001b[0m \u001b[1;31m#Place a sell order\u001b[0m\u001b[1;33m\u001b[0m\u001b[1;33m\u001b[0m\u001b[0m\n\u001b[1;32m----> 2\u001b[1;33m \u001b[0msell_order\u001b[0m \u001b[1;33m=\u001b[0m \u001b[0mmy_trader\u001b[0m\u001b[1;33m.\u001b[0m\u001b[0mplace_sell_order\u001b[0m\u001b[1;33m(\u001b[0m\u001b[0mstock_instrument\u001b[0m\u001b[1;33m,\u001b[0m \u001b[1;36m1\u001b[0m\u001b[1;33m)\u001b[0m\u001b[1;33m\u001b[0m\u001b[0m\n\u001b[0m",
      "\u001b[1;32m~\\Desktop\\Personal_Projects\\Algotrade\\Robinhood\\Robinhood\\Robinhood.py\u001b[0m in \u001b[0;36mplace_sell_order\u001b[1;34m(self, instrument, quantity, bid_price)\u001b[0m\n\u001b[0;32m    957\u001b[0m         \u001b[0mtransaction\u001b[0m \u001b[1;33m=\u001b[0m \u001b[0mTransaction\u001b[0m\u001b[1;33m.\u001b[0m\u001b[0mSELL\u001b[0m\u001b[1;33m\u001b[0m\u001b[0m\n\u001b[0;32m    958\u001b[0m \u001b[1;33m\u001b[0m\u001b[0m\n\u001b[1;32m--> 959\u001b[1;33m         \u001b[1;32mreturn\u001b[0m \u001b[0mself\u001b[0m\u001b[1;33m.\u001b[0m\u001b[0mplace_order\u001b[0m\u001b[1;33m(\u001b[0m\u001b[0minstrument\u001b[0m\u001b[1;33m,\u001b[0m \u001b[0mquantity\u001b[0m\u001b[1;33m,\u001b[0m \u001b[0mbid_price\u001b[0m\u001b[1;33m,\u001b[0m \u001b[0mtransaction\u001b[0m\u001b[1;33m)\u001b[0m\u001b[1;33m\u001b[0m\u001b[0m\n\u001b[0m\u001b[0;32m    960\u001b[0m \u001b[1;33m\u001b[0m\u001b[0m\n\u001b[0;32m    961\u001b[0m     \u001b[1;31m# Methods below here are a complete rewrite for buying and selling\u001b[0m\u001b[1;33m\u001b[0m\u001b[1;33m\u001b[0m\u001b[0m\n",
      "\u001b[1;32m~\\Desktop\\Personal_Projects\\Algotrade\\Robinhood\\Robinhood\\Robinhood.py\u001b[0m in \u001b[0;36mplace_order\u001b[1;34m(self, instrument, quantity, bid_price, transaction, trigger, order, time_in_force)\u001b[0m\n\u001b[0;32m    914\u001b[0m \u001b[1;33m\u001b[0m\u001b[0m\n\u001b[0;32m    915\u001b[0m         \u001b[0mres\u001b[0m \u001b[1;33m=\u001b[0m \u001b[0mself\u001b[0m\u001b[1;33m.\u001b[0m\u001b[0msession\u001b[0m\u001b[1;33m.\u001b[0m\u001b[0mpost\u001b[0m\u001b[1;33m(\u001b[0m\u001b[0mendpoints\u001b[0m\u001b[1;33m.\u001b[0m\u001b[0morders\u001b[0m\u001b[1;33m(\u001b[0m\u001b[1;33m)\u001b[0m\u001b[1;33m,\u001b[0m \u001b[0mdata\u001b[0m\u001b[1;33m=\u001b[0m\u001b[0mpayload\u001b[0m\u001b[1;33m,\u001b[0m \u001b[0mtimeout\u001b[0m\u001b[1;33m=\u001b[0m\u001b[1;36m15\u001b[0m\u001b[1;33m)\u001b[0m\u001b[1;33m\u001b[0m\u001b[0m\n\u001b[1;32m--> 916\u001b[1;33m         \u001b[0mres\u001b[0m\u001b[1;33m.\u001b[0m\u001b[0mraise_for_status\u001b[0m\u001b[1;33m(\u001b[0m\u001b[1;33m)\u001b[0m\u001b[1;33m\u001b[0m\u001b[0m\n\u001b[0m\u001b[0;32m    917\u001b[0m \u001b[1;33m\u001b[0m\u001b[0m\n\u001b[0;32m    918\u001b[0m         \u001b[1;32mreturn\u001b[0m \u001b[0mres\u001b[0m\u001b[1;33m\u001b[0m\u001b[0m\n",
      "\u001b[1;32mC:\\ProgramData\\Anaconda3\\lib\\site-packages\\requests\\models.py\u001b[0m in \u001b[0;36mraise_for_status\u001b[1;34m(self)\u001b[0m\n\u001b[0;32m    933\u001b[0m \u001b[1;33m\u001b[0m\u001b[0m\n\u001b[0;32m    934\u001b[0m         \u001b[1;32mif\u001b[0m \u001b[0mhttp_error_msg\u001b[0m\u001b[1;33m:\u001b[0m\u001b[1;33m\u001b[0m\u001b[0m\n\u001b[1;32m--> 935\u001b[1;33m             \u001b[1;32mraise\u001b[0m \u001b[0mHTTPError\u001b[0m\u001b[1;33m(\u001b[0m\u001b[0mhttp_error_msg\u001b[0m\u001b[1;33m,\u001b[0m \u001b[0mresponse\u001b[0m\u001b[1;33m=\u001b[0m\u001b[0mself\u001b[0m\u001b[1;33m)\u001b[0m\u001b[1;33m\u001b[0m\u001b[0m\n\u001b[0m\u001b[0;32m    936\u001b[0m \u001b[1;33m\u001b[0m\u001b[0m\n\u001b[0;32m    937\u001b[0m     \u001b[1;32mdef\u001b[0m \u001b[0mclose\u001b[0m\u001b[1;33m(\u001b[0m\u001b[0mself\u001b[0m\u001b[1;33m)\u001b[0m\u001b[1;33m:\u001b[0m\u001b[1;33m\u001b[0m\u001b[0m\n",
      "\u001b[1;31mHTTPError\u001b[0m: 400 Client Error: Bad Request for url: https://api.robinhood.com/orders/"
     ]
    }
   ],
   "source": [
    "#Place a sell order\n",
    "sell_order = my_trader.place_sell_order(stock_instrument, 1)"
   ]
  },
  {
   "cell_type": "code",
   "execution_count": null,
   "metadata": {},
   "outputs": [],
   "source": []
  }
 ],
 "metadata": {
  "kernelspec": {
   "display_name": "Python 3",
   "language": "python",
   "name": "python3"
  },
  "language_info": {
   "codemirror_mode": {
    "name": "ipython",
    "version": 3
   },
   "file_extension": ".py",
   "mimetype": "text/x-python",
   "name": "python",
   "nbconvert_exporter": "python",
   "pygments_lexer": "ipython3",
   "version": "3.6.4"
  }
 },
 "nbformat": 4,
 "nbformat_minor": 2
}
